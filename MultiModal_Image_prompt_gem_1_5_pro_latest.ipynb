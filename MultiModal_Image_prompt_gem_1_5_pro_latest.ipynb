{
  "nbformat": 4,
  "nbformat_minor": 0,
  "metadata": {
    "colab": {
      "provenance": [],
      "authorship_tag": "ABX9TyN2PnJAYwwyqLbMWtGrfOoz",
      "include_colab_link": true
    },
    "kernelspec": {
      "name": "python3",
      "display_name": "Python 3"
    },
    "language_info": {
      "name": "python"
    }
  },
  "cells": [
    {
      "cell_type": "markdown",
      "metadata": {
        "id": "view-in-github",
        "colab_type": "text"
      },
      "source": [
        "<a href=\"https://colab.research.google.com/github/padmathanumoorthy/gemini/blob/master/MultiModal_Image_prompt_gem_1_5_pro_latest.ipynb\" target=\"_parent\"><img src=\"https://colab.research.google.com/assets/colab-badge.svg\" alt=\"Open In Colab\"/></a>"
      ]
    },
    {
      "cell_type": "code",
      "execution_count": 1,
      "metadata": {
        "id": "F3HJUHPNTc5E"
      },
      "outputs": [],
      "source": [
        "import google.generativeai as genai\n",
        "from google.colab import userdata\n",
        "genai.configure(api_key=userdata.get('API_KEY'))"
      ]
    },
    {
      "cell_type": "code",
      "source": [
        "model = genai.GenerativeModel(model_name='models/gemini-1.5-pro-latest')"
      ],
      "metadata": {
        "id": "IWUVeWoWTjth"
      },
      "execution_count": 2,
      "outputs": []
    },
    {
      "cell_type": "code",
      "source": [
        "!curl -o food.jpg file:///Users/jaguar/Documents/GitHub/Gemini/images/food.jpg"
      ],
      "metadata": {
        "colab": {
          "base_uri": "https://localhost:8080/"
        },
        "id": "Nh7o7PtWTtl4",
        "outputId": "bae9e74d-4f5e-4354-f6e6-8d5d70a807ac"
      },
      "execution_count": 3,
      "outputs": [
        {
          "output_type": "stream",
          "name": "stdout",
          "text": [
            "curl: (37) Couldn't open file /Users/jaguar/Documents/GitHub/Gemini/images/food.jpg\n"
          ]
        }
      ]
    },
    {
      "cell_type": "code",
      "source": [
        "from IPython.display import Image, Markdown\n",
        "Image(filename=food.jpg)"
      ],
      "metadata": {
        "id": "wPkFZR4mU1Xz"
      },
      "execution_count": null,
      "outputs": []
    },
    {
      "cell_type": "code",
      "source": [
        "image_file = genai.upload_file(path='food.jpg',\n",
        "                               display_name = 'salad')\n",
        "print(f'Uploaded file: {image_file.display_name} as {image_file.uri}')"
      ],
      "metadata": {
        "id": "DIL-7MOTVFtM"
      },
      "execution_count": null,
      "outputs": []
    },
    {
      "cell_type": "code",
      "source": [
        "file = genai.get_file(name=image_file.name)\n",
        "print(f'Retrieved file: {file.display_name} as {file.uri}')"
      ],
      "metadata": {
        "id": "Ypmt07bCVtpP"
      },
      "execution_count": null,
      "outputs": []
    },
    {
      "cell_type": "code",
      "source": [
        "response = model.generate_content(['Describe this image considering historical facts',\n",
        "                                   image_file])\n",
        "Markdown(response.text)"
      ],
      "metadata": {
        "id": "ossVw-v4WFMy"
      },
      "execution_count": null,
      "outputs": []
    },
    {
      "cell_type": "code",
      "source": [
        "genai.delete_file(image_file.name)\n",
        "print(f'Deleted {image_file.display_name}')"
      ],
      "metadata": {
        "colab": {
          "base_uri": "https://localhost:8080/",
          "height": 141
        },
        "id": "zwrBZlZTWa8b",
        "outputId": "8e4b73c6-9b02-4fe0-9571-f85fe9c4c7b3"
      },
      "execution_count": 4,
      "outputs": [
        {
          "output_type": "error",
          "ename": "AttributeError",
          "evalue": "module 'google.generativeai' has no attribute 'delete_file'",
          "traceback": [
            "\u001b[0;31m---------------------------------------------------------------------------\u001b[0m",
            "\u001b[0;31mAttributeError\u001b[0m                            Traceback (most recent call last)",
            "\u001b[0;32m<ipython-input-4-29573038fb94>\u001b[0m in \u001b[0;36m<cell line: 1>\u001b[0;34m()\u001b[0m\n\u001b[0;32m----> 1\u001b[0;31m \u001b[0mgenai\u001b[0m\u001b[0;34m.\u001b[0m\u001b[0mdelete_file\u001b[0m\u001b[0;34m(\u001b[0m\u001b[0mimage_file\u001b[0m\u001b[0;34m.\u001b[0m\u001b[0mname\u001b[0m\u001b[0;34m)\u001b[0m\u001b[0;34m\u001b[0m\u001b[0;34m\u001b[0m\u001b[0m\n\u001b[0m",
            "\u001b[0;31mAttributeError\u001b[0m: module 'google.generativeai' has no attribute 'delete_file'"
          ]
        }
      ]
    },
    {
      "cell_type": "code",
      "source": [],
      "metadata": {
        "id": "XwlowFXpWhn1"
      },
      "execution_count": null,
      "outputs": []
    }
  ]
}