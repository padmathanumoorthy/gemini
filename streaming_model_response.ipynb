{
  "nbformat": 4,
  "nbformat_minor": 0,
  "metadata": {
    "colab": {
      "provenance": [],
      "toc_visible": true,
      "authorship_tag": "ABX9TyNXiEsJvjA/v+f5Lw5Ldu+D",
      "include_colab_link": true
    },
    "kernelspec": {
      "name": "python3",
      "display_name": "Python 3"
    },
    "language_info": {
      "name": "python"
    }
  },
  "cells": [
    {
      "cell_type": "markdown",
      "metadata": {
        "id": "view-in-github",
        "colab_type": "text"
      },
      "source": [
        "<a href=\"https://colab.research.google.com/github/padmathanumoorthy/gemini/blob/master/streaming_model_response.ipynb\" target=\"_parent\"><img src=\"https://colab.research.google.com/assets/colab-badge.svg\" alt=\"Open In Colab\"/></a>"
      ]
    },
    {
      "cell_type": "code",
      "execution_count": 2,
      "metadata": {
        "id": "jxHAOuFByR7c"
      },
      "outputs": [],
      "source": [
        "import google.generativeai as genai\n",
        "from google.colab import userdata\n",
        "genai.configure(api_key=userdata.get('API_KEY'))"
      ]
    },
    {
      "cell_type": "code",
      "source": [
        "model = genai.GenerativeModel('gemini-pro')"
      ],
      "metadata": {
        "id": "q9DovGIW0X04"
      },
      "execution_count": 4,
      "outputs": []
    },
    {
      "cell_type": "markdown",
      "source": [
        "# Streaming\n",
        "\n",
        "In the context of LLMs the process of stream refers to  delivering the response as the continuous stream of data instead sendig the response as once.\n",
        "\n"
      ],
      "metadata": {
        "id": "JNVWXsabzYSv"
      }
    },
    {
      "cell_type": "code",
      "source": [
        "prompt = 'write an imaginary scientific paper that proposes a new thoery of quantum gravity'\n",
        "response = model.generate_content(prompt)\n",
        "print(response.text)"
      ],
      "metadata": {
        "colab": {
          "base_uri": "https://localhost:8080/",
          "height": 575
        },
        "id": "uCM-c8lKz-iB",
        "outputId": "4561282b-e150-4523-a222-c0be5ebb3799"
      },
      "execution_count": 9,
      "outputs": [
        {
          "output_type": "stream",
          "name": "stdout",
          "text": [
            "**Title:** A Novel Theory of Quantum Gravity: Unifying Spacetime and Matter through Entanglement\n",
            "\n",
            "**Abstract:**\n",
            "\n",
            "This paper presents a groundbreaking theory that unifies the fundamental forces of nature, specifically gravity, with quantum mechanics. The proposed theory challenges the existing paradigms of both quantum field theory and general relativity, offering a comprehensive framework that resolves long-standing paradoxes and provides new insights into the nature of spacetime and matter.\n",
            "\n",
            "**Introduction:**\n",
            "\n",
            "Despite decades of extensive research, a comprehensive theory of quantum gravity has remained elusive. Current attempts to unify gravity with quantum mechanics often encounter insurmountable mathematical challenges or lead to theories that are inconsistent with experimental observations. This paper proposes a novel approach that departs from traditional frameworks and offers a paradigm-shifting understanding of the fundamental laws of nature.\n",
            "\n",
            "**Methodology:**\n",
            "\n",
            "The proposed theory draws inspiration from the principles of entanglement, a quantum phenomenon where two or more particles become correlated in such a way that the state of one particle instantly influences the state of another, regardless of the distance between them. By extending the concept of entanglement to the realm of gravity, the theory posits that spacetime itself is an entangled network of interconnected points.\n",
            "\n",
            "**Key Concepts:**\n",
            "\n",
            "* **Entangled Spacetime:** Spacetime is not a static background but rather a dynamic fabric woven together by entangled quantum states. The curvature of spacetime is not imposed from above but emerges as a consequence of the underlying quantum correlations.\n",
            "* **Quantum Fluctuations as the Source of Gravity:** The constant quantum fluctuations that occur at the Planck scale give rise to the gravitational force. These fluctuations create tiny distortions in spacetime, resulting in the attraction between masses.\n",
            "* **Matter as Entangled Fields:** Matter fields, such as the electron field, are not localized particles but rather non-local, interconnected entities that exist throughout spacetime. The interactions between matter fields are mediated by the entangled nature of spacetime.\n",
            "\n",
            "**Implications:**\n",
            "\n",
            "The proposed theory of quantum gravity has profound implications:\n",
            "\n",
            "* **Resolution of the Black Hole Information Paradox:** By incorporating quantum entanglement, the theory resolves the long-standing black hole information paradox, as information falling into a black hole is not irretrievably lost but rather encoded within the entangled structure of spacetime.\n",
            "* **Quantization of Gravity:** Gravity is quantized at the Planck scale, where the classical description of gravity breaks down. The theory provides a detailed framework for quantizing the gravitational field and deriving its equations of motion.\n",
            "* **Unification of the Standard Model and Gravity:** The proposed theory unifies the fundamental forces of nature, including the Standard Model forces and gravity, into a single, coherent theoretical framework.\n",
            "\n",
            "**Conclusions:**\n",
            "\n",
            "This paper presents a revolutionary theory of quantum gravity that unifies spacetime and matter through the principle of entanglement. It offers a consistent and comprehensive framework that addresses fundamental paradoxes, quantizes gravity, and provides a unified description of the universe at both microscopic and macroscopic scales. Further research is necessary to fully explore the implications of this theory and to test its validity through experimental observations.\n"
          ]
        }
      ]
    },
    {
      "cell_type": "code",
      "source": [
        "prompt = 'write an imaginary scientific paper that proposes a new thoery of quantum gravity'\n",
        "response = model.generate_content(prompt, stream=True)\n",
        "#print(response.text) - This will give error\n",
        "for chunk in response:\n",
        "  #print(chunk.text, end='')\n",
        "  print(chunk.text)\n",
        "  print('-' * 100) #chunks are the streaming outputs"
      ],
      "metadata": {
        "colab": {
          "base_uri": "https://localhost:8080/",
          "height": 801
        },
        "id": "yEgkrIqO10L1",
        "outputId": "fd7765be-acf0-4d7f-88f0-9fb43953bf98"
      },
      "execution_count": 14,
      "outputs": [
        {
          "output_type": "stream",
          "name": "stdout",
          "text": [
            "**Title:** A Unifying Theory of Quantum Gravity: Unveiling the Fabric of\n",
            "----------------------------------------------------------------------------------------------------\n",
            " the Universe\n",
            "\n",
            "**Abstract:**\n",
            "\n",
            "Quantum gravity, the elusive theory that seeks to reconcile the laws of quantum mechanics with the nature of gravity, has puzzled scientists for\n",
            "----------------------------------------------------------------------------------------------------\n",
            " decades. This paper proposes a novel theoretical framework that unifies these two fundamental phenomena, providing a groundbreaking understanding of the fabric of our universe.\n",
            "\n",
            "**Introduction:**\n",
            "\n",
            "The Standard Model of particle physics, which has been remarkably successful in describing the behavior of subatomic particles, falls short when it comes to gravity. The incompatibility\n",
            "----------------------------------------------------------------------------------------------------\n",
            " between quantum mechanics and general relativity, the classical theory of gravity, has led to an ongoing search for a theory of quantum gravity.\n",
            "\n",
            "**The Quantum-Gravitational Field:**\n",
            "\n",
            "Our proposed theory introduces the concept of a quantum-gravitational field (QGF). This field is a four-dimensional spacetime continuum that contains all fundamental forces and particles. The QGF is described by a wavefunction that evolves according to a modified version of the Schrödinger equation, incorporating gravitational interactions.\n",
            "\n",
            "**Spacetime as a Quantum Fluctuation:**\n",
            "\n",
            "We propose that spacetime itself is a quantum fluctuation of the QGF. This means that spacetime is not a fixed\n",
            "----------------------------------------------------------------------------------------------------\n",
            ", immutable background but rather a dynamic entity that responds to the presence of matter and energy.\n",
            "\n",
            "**Gravity as a Quantum Force:**\n",
            "\n",
            "In our theory, gravity is not a force in the classical sense but rather a manifestation of the quantum fluctuations of the QGF. Gravitational interactions arise from the exchange of virtual gravitons, which are massless particles that mediate the transfer of energy and momentum between particles within the QGF.\n",
            "\n",
            "**Unified Description of Matter and Gravity:**\n",
            "\n",
            "The QGF framework unifies the description of matter and gravity. Particles are localized excitations of the QGF that possess both quantum and gravitational properties. The interaction between particles is mediated by the exchange of virtual gravitons within the QGF.\n",
            "\n",
            "**Experimental Verification:**\n",
            "\n",
            "While our theory is still in its early stages, several experimental tests are proposed to provide empirical support for its predictions. These tests involve precision measurements of gravitational waves, searches for violations of Lorentz invariance, and studies of the behavior of quantum systems in strong gravitational fields.\n",
            "\n",
            "**Conclusion:**\n",
            "\n",
            "The proposed quantum-gravitational field theory provides a novel framework for understanding the nature of gravity and its relationship to quantum mechanics. It offers a unified description of matter and gravity, where spacetime is a quantum fluctuation and gravitational interactions arise from the exchange of virtual gravitons\n",
            "----------------------------------------------------------------------------------------------------\n",
            " within the QGF. Further experimental investigations are necessary to validate the predictions of this theory and shed light on the fundamental workings of the universe.\n",
            "----------------------------------------------------------------------------------------------------\n"
          ]
        }
      ]
    },
    {
      "cell_type": "code",
      "source": [],
      "metadata": {
        "id": "4GJEvKWE21c1"
      },
      "execution_count": null,
      "outputs": []
    }
  ]
}