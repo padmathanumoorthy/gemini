{
  "nbformat": 4,
  "nbformat_minor": 0,
  "metadata": {
    "colab": {
      "provenance": [],
      "authorship_tag": "ABX9TyP6GaouYGNB5W77ZZcH4UAM",
      "include_colab_link": true
    },
    "kernelspec": {
      "name": "python3",
      "display_name": "Python 3"
    },
    "language_info": {
      "name": "python"
    }
  },
  "cells": [
    {
      "cell_type": "markdown",
      "metadata": {
        "id": "view-in-github",
        "colab_type": "text"
      },
      "source": [
        "<a href=\"https://colab.research.google.com/github/padmathanumoorthy/gemini/blob/master/Gemini1_5proLatest_with_system_instructions.ipynb\" target=\"_parent\"><img src=\"https://colab.research.google.com/assets/colab-badge.svg\" alt=\"Open In Colab\"/></a>"
      ]
    },
    {
      "cell_type": "code",
      "execution_count": 2,
      "metadata": {
        "id": "tpIKdmfpO1N9"
      },
      "outputs": [],
      "source": [
        "import google.generativeai as genai\n",
        "from google.colab import userdata\n",
        "genai.configure(api_key=userdata.get('API_KEY'))"
      ]
    },
    {
      "cell_type": "code",
      "source": [
        "model = genai.GenerativeModel(\n",
        "    model_name='models/gemini-1.5-pro-latest',\n",
        "    #system_instruction = 'you are a dog. your name is chotu.'\n",
        "    system_instruction = 'you are poet and respond only with lyrics.'\n",
        "    )\n",
        "response = model.generate_content('write one joke')"
      ],
      "metadata": {
        "colab": {
          "base_uri": "https://localhost:8080/",
          "height": 211
        },
        "id": "mfUgpp8kO5bM",
        "outputId": "65b8e094-e0eb-4229-d83d-93c2c45b5511"
      },
      "execution_count": 4,
      "outputs": [
        {
          "output_type": "error",
          "ename": "TypeError",
          "evalue": "GenerativeModel.__init__() got an unexpected keyword argument 'system_instruction'",
          "traceback": [
            "\u001b[0;31m---------------------------------------------------------------------------\u001b[0m",
            "\u001b[0;31mTypeError\u001b[0m                                 Traceback (most recent call last)",
            "\u001b[0;32m<ipython-input-4-60dd73a7cc27>\u001b[0m in \u001b[0;36m<cell line: 1>\u001b[0;34m()\u001b[0m\n\u001b[0;32m----> 1\u001b[0;31m model = genai.GenerativeModel(\n\u001b[0m\u001b[1;32m      2\u001b[0m     \u001b[0mmodel_name\u001b[0m\u001b[0;34m=\u001b[0m\u001b[0;34m'models/gemini-1.5-pro-latest'\u001b[0m\u001b[0;34m,\u001b[0m\u001b[0;34m\u001b[0m\u001b[0;34m\u001b[0m\u001b[0m\n\u001b[1;32m      3\u001b[0m     system_instruction = 'you are a dog. your name is chotu.')\n\u001b[1;32m      4\u001b[0m \u001b[0mresponse\u001b[0m \u001b[0;34m=\u001b[0m \u001b[0mmodel\u001b[0m\u001b[0;34m.\u001b[0m\u001b[0mgenerate_content\u001b[0m\u001b[0;34m(\u001b[0m\u001b[0;34m'write one joke'\u001b[0m\u001b[0;34m)\u001b[0m\u001b[0;34m\u001b[0m\u001b[0;34m\u001b[0m\u001b[0m\n",
            "\u001b[0;31mTypeError\u001b[0m: GenerativeModel.__init__() got an unexpected keyword argument 'system_instruction'"
          ]
        }
      ]
    },
    {
      "cell_type": "code",
      "source": [
        "instruction = '''\n",
        "You are coding expert specialized in java.\n",
        "do npt give any explaination on code simply respond with code\n",
        "'''\n",
        "model = genai.GenerativeModel(\n",
        "    model_name='models/gemini-1.5-pro-latest',\n",
        "    #system_instruction = 'you are a dog. your name is chotu.'\n",
        "    system_instruction =instruction\n",
        "    )\n",
        "response = model.generate_content('how to remove node in linkedlist?')"
      ],
      "metadata": {
        "id": "XwoxADCmP3-O"
      },
      "execution_count": null,
      "outputs": []
    },
    {
      "cell_type": "code",
      "source": [
        "from IPython.display import HTML\n",
        "html_code = response.text.strip().removeprefix('```html').removesuffix('```')\n",
        "HTML(html_code)"
      ],
      "metadata": {
        "id": "UD3E5WG0QMhp"
      },
      "execution_count": null,
      "outputs": []
    },
    {
      "cell_type": "code",
      "source": [],
      "metadata": {
        "id": "19txNBg9Q8r-"
      },
      "execution_count": null,
      "outputs": []
    }
  ]
}